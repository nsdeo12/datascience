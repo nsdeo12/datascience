{
 "cells": [
  {
   "cell_type": "markdown",
   "metadata": {},
   "source": [
    "<a href='https://i.ibb.co/TPq9FfH/Nilakantha-Singh-Deo.jpg'> <img src='https://i.ibb.co/TPq9FfH/Nilakantha-Singh-Deo.jpg' /></a>\n"
   ]
  },
  {
   "cell_type": "markdown",
   "metadata": {},
   "source": [
    "1. CSV\n",
    "2. EXCEL\n",
    "3. HTML\n",
    "4. SQL"
   ]
  },
  {
   "cell_type": "markdown",
   "metadata": {},
   "source": [
    "### conda install \n",
    "    - sqlalchemy\n",
    "    - lxml \n",
    "    - html5lib \n",
    "    - BeautifulSoup4"
   ]
  },
  {
   "cell_type": "code",
   "execution_count": 23,
   "metadata": {},
   "outputs": [
    {
     "data": {
      "text/html": [
       "<style type=\"text/css\">\n",
       "table.dataframe td, table.dataframe th {\n",
       "    border: 1px  black solid !important;\n",
       "  color: black !important;\n",
       "}\n",
       "</style>\n"
      ],
      "text/plain": [
       "<IPython.core.display.HTML object>"
      ]
     },
     "metadata": {},
     "output_type": "display_data"
    }
   ],
   "source": [
    "%%HTML\n",
    "<style type=\"text/css\">\n",
    "table.dataframe td, table.dataframe th {\n",
    "    border: 1px  black solid !important;\n",
    "  color: black !important;\n",
    "}\n",
    "</style>"
   ]
  },
  {
   "cell_type": "code",
   "execution_count": 24,
   "metadata": {},
   "outputs": [],
   "source": [
    "import pandas as pd\n"
   ]
  },
  {
   "cell_type": "markdown",
   "metadata": {},
   "source": [
    "### CSV "
   ]
  },
  {
   "cell_type": "code",
   "execution_count": 25,
   "metadata": {},
   "outputs": [
    {
     "data": {
      "text/html": [
       "<div>\n",
       "<style scoped>\n",
       "    .dataframe tbody tr th:only-of-type {\n",
       "        vertical-align: middle;\n",
       "    }\n",
       "\n",
       "    .dataframe tbody tr th {\n",
       "        vertical-align: top;\n",
       "    }\n",
       "\n",
       "    .dataframe thead th {\n",
       "        text-align: right;\n",
       "    }\n",
       "</style>\n",
       "<table border=\"1\" class=\"dataframe\">\n",
       "  <thead>\n",
       "    <tr style=\"text-align: right;\">\n",
       "      <th></th>\n",
       "      <th>Team</th>\n",
       "      <th>Games</th>\n",
       "      <th>Win-Loss</th>\n",
       "      <th>Off Rank</th>\n",
       "      <th>Off Plays</th>\n",
       "      <th>Off Yards</th>\n",
       "    </tr>\n",
       "  </thead>\n",
       "  <tbody>\n",
       "    <tr>\n",
       "      <th>0</th>\n",
       "      <td>Air Force (Mountain West)</td>\n",
       "      <td>13</td>\n",
       "      <td>11-Feb</td>\n",
       "      <td>51</td>\n",
       "      <td>881</td>\n",
       "      <td>5483</td>\n",
       "    </tr>\n",
       "    <tr>\n",
       "      <th>1</th>\n",
       "      <td>Akron (MAC)</td>\n",
       "      <td>12</td>\n",
       "      <td>0-12</td>\n",
       "      <td>130</td>\n",
       "      <td>725</td>\n",
       "      <td>2918</td>\n",
       "    </tr>\n",
       "    <tr>\n",
       "      <th>2</th>\n",
       "      <td>Alabama (SEC)</td>\n",
       "      <td>13</td>\n",
       "      <td>11-Feb</td>\n",
       "      <td>6</td>\n",
       "      <td>842</td>\n",
       "      <td>6640</td>\n",
       "    </tr>\n",
       "    <tr>\n",
       "      <th>3</th>\n",
       "      <td>Appalachian St. (Sun Belt)</td>\n",
       "      <td>14</td>\n",
       "      <td>13-Jan</td>\n",
       "      <td>39</td>\n",
       "      <td>969</td>\n",
       "      <td>6064</td>\n",
       "    </tr>\n",
       "    <tr>\n",
       "      <th>4</th>\n",
       "      <td>Arizona (Pac-12)</td>\n",
       "      <td>12</td>\n",
       "      <td>04-Aug</td>\n",
       "      <td>30</td>\n",
       "      <td>873</td>\n",
       "      <td>5281</td>\n",
       "    </tr>\n",
       "    <tr>\n",
       "      <th>5</th>\n",
       "      <td>Arizona St. (Pac-12)</td>\n",
       "      <td>13</td>\n",
       "      <td>08-May</td>\n",
       "      <td>94</td>\n",
       "      <td>842</td>\n",
       "      <td>4837</td>\n",
       "    </tr>\n",
       "    <tr>\n",
       "      <th>6</th>\n",
       "      <td>Arkansas (SEC)</td>\n",
       "      <td>12</td>\n",
       "      <td>02-Oct</td>\n",
       "      <td>111</td>\n",
       "      <td>783</td>\n",
       "      <td>4081</td>\n",
       "    </tr>\n",
       "    <tr>\n",
       "      <th>7</th>\n",
       "      <td>Arkansas St. (Sun Belt)</td>\n",
       "      <td>13</td>\n",
       "      <td>08-May</td>\n",
       "      <td>33</td>\n",
       "      <td>925</td>\n",
       "      <td>5711</td>\n",
       "    </tr>\n",
       "    <tr>\n",
       "      <th>8</th>\n",
       "      <td>Army West Point (FBS Independent)</td>\n",
       "      <td>13</td>\n",
       "      <td>05-Aug</td>\n",
       "      <td>89</td>\n",
       "      <td>869</td>\n",
       "      <td>4929</td>\n",
       "    </tr>\n",
       "  </tbody>\n",
       "</table>\n",
       "</div>"
      ],
      "text/plain": [
       "                                Team  Games Win-Loss  Off Rank  Off Plays  \\\n",
       "0          Air Force (Mountain West)     13   11-Feb        51        881   \n",
       "1                        Akron (MAC)     12     0-12       130        725   \n",
       "2                      Alabama (SEC)     13   11-Feb         6        842   \n",
       "3         Appalachian St. (Sun Belt)     14   13-Jan        39        969   \n",
       "4                   Arizona (Pac-12)     12   04-Aug        30        873   \n",
       "5               Arizona St. (Pac-12)     13   08-May        94        842   \n",
       "6                     Arkansas (SEC)     12   02-Oct       111        783   \n",
       "7            Arkansas St. (Sun Belt)     13   08-May        33        925   \n",
       "8  Army West Point (FBS Independent)     13   05-Aug        89        869   \n",
       "\n",
       "   Off Yards  \n",
       "0       5483  \n",
       "1       2918  \n",
       "2       6640  \n",
       "3       6064  \n",
       "4       5281  \n",
       "5       4837  \n",
       "6       4081  \n",
       "7       5711  \n",
       "8       4929  "
      ]
     },
     "execution_count": 25,
     "metadata": {},
     "output_type": "execute_result"
    }
   ],
   "source": [
    "# Open and read CSV files\n",
    "readCsv=pd.read_csv('data/football.csv')\n",
    "readCsv"
   ]
  },
  {
   "cell_type": "code",
   "execution_count": 26,
   "metadata": {
    "scrolled": true
   },
   "outputs": [],
   "source": [
    "#index=False will remove auto generated indexes by panda\n",
    "\n",
    "readCsv.to_csv('data/football_new.csv',index=False)\n",
    "df=pd.read_csv('data/football_new.csv')"
   ]
  },
  {
   "cell_type": "markdown",
   "metadata": {},
   "source": [
    "### EXCEL(install using conda install xlrd)"
   ]
  },
  {
   "cell_type": "code",
   "execution_count": 27,
   "metadata": {},
   "outputs": [
    {
     "data": {
      "text/html": [
       "<div>\n",
       "<style scoped>\n",
       "    .dataframe tbody tr th:only-of-type {\n",
       "        vertical-align: middle;\n",
       "    }\n",
       "\n",
       "    .dataframe tbody tr th {\n",
       "        vertical-align: top;\n",
       "    }\n",
       "\n",
       "    .dataframe thead th {\n",
       "        text-align: right;\n",
       "    }\n",
       "</style>\n",
       "<table border=\"1\" class=\"dataframe\">\n",
       "  <thead>\n",
       "    <tr style=\"text-align: right;\">\n",
       "      <th></th>\n",
       "      <th>slno</th>\n",
       "      <th>Name</th>\n",
       "      <th>Age</th>\n",
       "    </tr>\n",
       "  </thead>\n",
       "  <tbody>\n",
       "    <tr>\n",
       "      <th>0</th>\n",
       "      <td>1</td>\n",
       "      <td>Antony</td>\n",
       "      <td>12</td>\n",
       "    </tr>\n",
       "    <tr>\n",
       "      <th>1</th>\n",
       "      <td>2</td>\n",
       "      <td>Arag</td>\n",
       "      <td>33</td>\n",
       "    </tr>\n",
       "    <tr>\n",
       "      <th>2</th>\n",
       "      <td>3</td>\n",
       "      <td>Raman</td>\n",
       "      <td>42</td>\n",
       "    </tr>\n",
       "    <tr>\n",
       "      <th>3</th>\n",
       "      <td>4</td>\n",
       "      <td>Testneil</td>\n",
       "      <td>55</td>\n",
       "    </tr>\n",
       "    <tr>\n",
       "      <th>4</th>\n",
       "      <td>5</td>\n",
       "      <td>Hulla</td>\n",
       "      <td>77</td>\n",
       "    </tr>\n",
       "  </tbody>\n",
       "</table>\n",
       "</div>"
      ],
      "text/plain": [
       "   slno      Name  Age\n",
       "0     1    Antony   12\n",
       "1     2      Arag   33\n",
       "2     3     Raman   42\n",
       "3     4  Testneil   55\n",
       "4     5     Hulla   77"
      ]
     },
     "execution_count": 27,
     "metadata": {},
     "output_type": "execute_result"
    }
   ],
   "source": [
    "pd.read_excel('data/testExcel.xlsx',sheet_name=1)"
   ]
  },
  {
   "cell_type": "code",
   "execution_count": 28,
   "metadata": {
    "scrolled": true
   },
   "outputs": [],
   "source": [
    "#running twice throws error if already excel exists\n",
    "data={'a':[1,23],'b':[3,45]}\n",
    "df=pd.DataFrame(data,index=['x','y'],columns=['column1','column2'])\n",
    "df.to_excel('data/testExcel_new1.xlsx',sheet_name='NewSheet')"
   ]
  },
  {
   "cell_type": "markdown",
   "metadata": {},
   "source": [
    "### HTML input"
   ]
  },
  {
   "cell_type": "code",
   "execution_count": 29,
   "metadata": {},
   "outputs": [],
   "source": [
    "data = pd.read_html('https://www.fdic.gov/bank/individual/failed/banklist.html')\n",
    "#It gets the tabular element\n",
    "data[0]\n",
    "#Get only first 7 elements\n",
    "df=data[0].head(n=7)\n"
   ]
  },
  {
   "cell_type": "markdown",
   "metadata": {},
   "source": [
    "### Reading SQL \n",
    "#### get the proper engine/library dependent upon the database"
   ]
  },
  {
   "cell_type": "code",
   "execution_count": 33,
   "metadata": {},
   "outputs": [
    {
     "data": {
      "text/html": [
       "<div>\n",
       "<style scoped>\n",
       "    .dataframe tbody tr th:only-of-type {\n",
       "        vertical-align: middle;\n",
       "    }\n",
       "\n",
       "    .dataframe tbody tr th {\n",
       "        vertical-align: top;\n",
       "    }\n",
       "\n",
       "    .dataframe thead th {\n",
       "        text-align: right;\n",
       "    }\n",
       "</style>\n",
       "<table border=\"1\" class=\"dataframe\">\n",
       "  <thead>\n",
       "    <tr style=\"text-align: right;\">\n",
       "      <th></th>\n",
       "      <th>index</th>\n",
       "      <th>Bank Name</th>\n",
       "      <th>City</th>\n",
       "      <th>ST</th>\n",
       "      <th>CERT</th>\n",
       "      <th>Acquiring Institution</th>\n",
       "      <th>Closing Date</th>\n",
       "    </tr>\n",
       "  </thead>\n",
       "  <tbody>\n",
       "    <tr>\n",
       "      <th>0</th>\n",
       "      <td>0</td>\n",
       "      <td>City National Bank of New Jersey</td>\n",
       "      <td>Newark</td>\n",
       "      <td>NJ</td>\n",
       "      <td>21111</td>\n",
       "      <td>Industrial Bank</td>\n",
       "      <td>November 1, 2019</td>\n",
       "    </tr>\n",
       "    <tr>\n",
       "      <th>1</th>\n",
       "      <td>1</td>\n",
       "      <td>Resolute Bank</td>\n",
       "      <td>Maumee</td>\n",
       "      <td>OH</td>\n",
       "      <td>58317</td>\n",
       "      <td>Buckeye State Bank</td>\n",
       "      <td>October 25, 2019</td>\n",
       "    </tr>\n",
       "    <tr>\n",
       "      <th>2</th>\n",
       "      <td>2</td>\n",
       "      <td>Louisa Community Bank</td>\n",
       "      <td>Louisa</td>\n",
       "      <td>KY</td>\n",
       "      <td>58112</td>\n",
       "      <td>Kentucky Farmers Bank Corporation</td>\n",
       "      <td>October 25, 2019</td>\n",
       "    </tr>\n",
       "    <tr>\n",
       "      <th>3</th>\n",
       "      <td>3</td>\n",
       "      <td>The Enloe State Bank</td>\n",
       "      <td>Cooper</td>\n",
       "      <td>TX</td>\n",
       "      <td>10716</td>\n",
       "      <td>Legend Bank, N. A.</td>\n",
       "      <td>May 31, 2019</td>\n",
       "    </tr>\n",
       "    <tr>\n",
       "      <th>4</th>\n",
       "      <td>4</td>\n",
       "      <td>Washington Federal Bank for Savings</td>\n",
       "      <td>Chicago</td>\n",
       "      <td>IL</td>\n",
       "      <td>30570</td>\n",
       "      <td>Royal Savings Bank</td>\n",
       "      <td>December 15, 2017</td>\n",
       "    </tr>\n",
       "    <tr>\n",
       "      <th>5</th>\n",
       "      <td>5</td>\n",
       "      <td>The Farmers and Merchants State Bank of Argonia</td>\n",
       "      <td>Argonia</td>\n",
       "      <td>KS</td>\n",
       "      <td>17719</td>\n",
       "      <td>Conway Bank</td>\n",
       "      <td>October 13, 2017</td>\n",
       "    </tr>\n",
       "    <tr>\n",
       "      <th>6</th>\n",
       "      <td>6</td>\n",
       "      <td>Fayette County Bank</td>\n",
       "      <td>Saint Elmo</td>\n",
       "      <td>IL</td>\n",
       "      <td>1802</td>\n",
       "      <td>United Fidelity Bank, fsb</td>\n",
       "      <td>May 26, 2017</td>\n",
       "    </tr>\n",
       "  </tbody>\n",
       "</table>\n",
       "</div>"
      ],
      "text/plain": [
       "   index                                        Bank Name        City  ST  \\\n",
       "0      0                 City National Bank of New Jersey      Newark  NJ   \n",
       "1      1                                    Resolute Bank      Maumee  OH   \n",
       "2      2                            Louisa Community Bank      Louisa  KY   \n",
       "3      3                             The Enloe State Bank      Cooper  TX   \n",
       "4      4              Washington Federal Bank for Savings     Chicago  IL   \n",
       "5      5  The Farmers and Merchants State Bank of Argonia     Argonia  KS   \n",
       "6      6                              Fayette County Bank  Saint Elmo  IL   \n",
       "\n",
       "    CERT              Acquiring Institution       Closing Date  \n",
       "0  21111                    Industrial Bank   November 1, 2019  \n",
       "1  58317                 Buckeye State Bank   October 25, 2019  \n",
       "2  58112  Kentucky Farmers Bank Corporation   October 25, 2019  \n",
       "3  10716                 Legend Bank, N. A.       May 31, 2019  \n",
       "4  30570                 Royal Savings Bank  December 15, 2017  \n",
       "5  17719                        Conway Bank   October 13, 2017  \n",
       "6   1802          United Fidelity Bank, fsb       May 26, 2017  "
      ]
     },
     "execution_count": 33,
     "metadata": {},
     "output_type": "execute_result"
    }
   ],
   "source": [
    "from sqlalchemy import create_engine\n",
    "engine=create_engine('sqlite:///:memory:')\n",
    "#df is the previous data from HTML\n",
    "df.to_sql('myTable',engine)\n",
    "sqlRead=pd.read_sql('myTable',con=engine)\n",
    "sqlRead"
   ]
  }
 ],
 "metadata": {
  "kernelspec": {
   "display_name": "Python 3",
   "language": "python",
   "name": "python3"
  },
  "language_info": {
   "codemirror_mode": {
    "name": "ipython",
    "version": 3
   },
   "file_extension": ".py",
   "mimetype": "text/x-python",
   "name": "python",
   "nbconvert_exporter": "python",
   "pygments_lexer": "ipython3",
   "version": "3.7.4"
  }
 },
 "nbformat": 4,
 "nbformat_minor": 2
}
