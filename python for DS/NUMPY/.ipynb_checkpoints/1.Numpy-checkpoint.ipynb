{
 "cells": [
  {
   "cell_type": "markdown",
   "metadata": {},
   "source": [
    "<a href='https://i.ibb.co/TPq9FfH/Nilakantha-Singh-Deo.jpg'> <img src='https://i.ibb.co/TPq9FfH/Nilakantha-Singh-Deo.jpg' /></a>"
   ]
  },
  {
   "cell_type": "markdown",
   "metadata": {},
   "source": [
    "NUMPY Array vs list"
   ]
  },
  {
   "cell_type": "code",
   "execution_count": 10,
   "metadata": {},
   "outputs": [
    {
     "name": "stdout",
     "output_type": "stream",
     "text": [
      "numArray>> [1 2 3 4]\n",
      "threeDArr [[1 2 3]\n",
      " [4 5 6]\n",
      " [7 8 9]]\n"
     ]
    }
   ],
   "source": [
    "\n",
    "my_list=[1,2,3,4]\n",
    "\n",
    "import numpy as np\n",
    "np.array([1,2,3])\n",
    "\n",
    "numArray=np.array(my_list)\n",
    "\n",
    "print(\"numArray>>\",numArray)\n",
    "numArray\n",
    "\n",
    "threeDArr=[[1,2,3],[4,5,6],[7,8,9]]\n",
    "print (\"threeDArr\",np.array(threeDArr))"
   ]
  },
  {
   "cell_type": "markdown",
   "metadata": {},
   "source": [
    "ARANGE (prints in a range excluding last val>>> MIND THE SPELLING)"
   ]
  },
  {
   "cell_type": "code",
   "execution_count": 21,
   "metadata": {},
   "outputs": [
    {
     "name": "stdout",
     "output_type": "stream",
     "text": [
      "a>>> [0 1 2 3 4]\n",
      "a>>> [0 2 4 6 8]\n",
      "mind the double parenthesis>> \n",
      " [[0. 0. 0.]\n",
      " [0. 0. 0.]]\n",
      "Ones\n",
      " [[1. 1. 1.]\n",
      " [1. 1. 1.]\n",
      " [1. 1. 1.]]\n",
      "Ones parentheis here [1. 1. 1. 1.]\n"
     ]
    }
   ],
   "source": [
    "print(\"a>>>\",np.arange(0,5))\n",
    "print(\"intervals>>>\",np.arange(0,10,2))\n",
    "\n"
   ]
  },
  {
   "cell_type": "markdown",
   "metadata": {},
   "source": [
    "zeros and ones"
   ]
  },
  {
   "cell_type": "code",
   "execution_count": 22,
   "metadata": {},
   "outputs": [
    {
     "name": "stdout",
     "output_type": "stream",
     "text": [
      "mind the double parenthesis>> \n",
      " [[0. 0. 0.]\n",
      " [0. 0. 0.]]\n",
      "Ones\n",
      " [[1. 1. 1.]\n",
      " [1. 1. 1.]\n",
      " [1. 1. 1.]]\n",
      "Ones parentheis here [1. 1. 1. 1.]\n"
     ]
    }
   ],
   "source": [
    "print(\"mind the double parenthesis>> \\n\",np.zeros((2,3)))\n",
    "print(\"Ones\\n\",np.ones((3,3)))\n",
    "print(\"Ones parentheis here\",np.ones(4))"
   ]
  },
  {
   "cell_type": "markdown",
   "metadata": {},
   "source": [
    "Linspace"
   ]
  },
  {
   "cell_type": "code",
   "execution_count": 25,
   "metadata": {},
   "outputs": [
    {
     "data": {
      "text/plain": [
       "array([0.        , 0.26315789, 0.52631579, 0.78947368, 1.05263158,\n",
       "       1.31578947, 1.57894737, 1.84210526, 2.10526316, 2.36842105,\n",
       "       2.63157895, 2.89473684, 3.15789474, 3.42105263, 3.68421053,\n",
       "       3.94736842, 4.21052632, 4.47368421, 4.73684211, 5.        ])"
      ]
     },
     "execution_count": 25,
     "metadata": {},
     "output_type": "execute_result"
    }
   ],
   "source": [
    "np.linspace(0,5,20) #gives a one dimensional matrix (compare it with arange,which has step size)"
   ]
  },
  {
   "cell_type": "markdown",
   "metadata": {},
   "source": [
    "Identity matrix(diagonal matrix of one)\n"
   ]
  },
  {
   "cell_type": "code",
   "execution_count": 28,
   "metadata": {},
   "outputs": [
    {
     "data": {
      "text/plain": [
       "array([[1., 0., 0., 0.],\n",
       "       [0., 1., 0., 0.],\n",
       "       [0., 0., 1., 0.]])"
      ]
     },
     "execution_count": 28,
     "metadata": {},
     "output_type": "execute_result"
    }
   ],
   "source": [
    "np.eye(3,4)"
   ]
  },
  {
   "cell_type": "markdown",
   "metadata": {},
   "source": [
    "Random numbers\n"
   ]
  },
  {
   "cell_type": "code",
   "execution_count": 46,
   "metadata": {},
   "outputs": [
    {
     "name": "stdout",
     "output_type": "stream",
     "text": [
      "\n",
      "\n",
      " 1d raandom>>\n",
      "\n",
      " [0.21597173 0.06784916 0.74259641 0.80604479]\n",
      "\n",
      "\n",
      " 2d random>>\n",
      "\n",
      " [[0.47821028 0.89589367 0.90688565]\n",
      " [0.24393434 0.60706073 0.65918001]]\n",
      "\n",
      "\n",
      " Gaussian/Normal distribution random>>\n",
      "\n",
      " [[-0.93771282  0.82983195  0.46132809]\n",
      " [-0.44267853  0.56061288  1.14179419]]\n",
      "\n",
      "\n",
      " Integer random>>\n",
      "\n",
      " [33 98 37]\n"
     ]
    }
   ],
   "source": [
    "print(\"\\n\\n 1d raandom>>\\n\\n\",np.random.rand(4))\n",
    "print(\"\\n\\n 2d random>>\\n\\n\",np.random.rand(2,3))\n",
    "#Gaussian random\n",
    "print(\"\\n\\n Gaussian/Normal distribution random>>\\n\\n\",np.random.randn(2,3))\n",
    "print(\"\\n\\n Integer random>>\\n\\n\",np.random.randint(1,100,3))"
   ]
  },
  {
   "cell_type": "markdown",
   "metadata": {},
   "source": [
    "Reshape(takes an array and arrange them into matrix)"
   ]
  },
  {
   "cell_type": "code",
   "execution_count": 61,
   "metadata": {},
   "outputs": [
    {
     "name": "stdout",
     "output_type": "stream",
     "text": [
      "[ 0  1  2  3  4  5  6  7  8  9 10 11 12 13 14 15 16 17 18 19 20 21 22 23\n",
      " 24] \n",
      " max= 24 min= 0 ,index of max value= 24 ,index of min value= 0\n",
      "shape of my array>> (25,)\n",
      "Reshape the array>>>\n"
     ]
    },
    {
     "data": {
      "text/plain": [
       "array([[ 0,  1,  2,  3,  4],\n",
       "       [ 5,  6,  7,  8,  9],\n",
       "       [10, 11, 12, 13, 14],\n",
       "       [15, 16, 17, 18, 19],\n",
       "       [20, 21, 22, 23, 24]])"
      ]
     },
     "execution_count": 61,
     "metadata": {},
     "output_type": "execute_result"
    }
   ],
   "source": [
    "myArray=np.arange(0,25)\n",
    "print(myArray,\"\\n\",\"max=\",myArray.max(),\"min=\",myArray.min(),\",index of max value=\",myArray.argmax(),\",index of min value=\",myArray.argmin())\n",
    "\n",
    "print(\"shape of my array>>\",myArray.shape)\n",
    "print(\"Reshape the array>>>\")\n",
    "myArray.reshape(5,5)"
   ]
  },
  {
   "cell_type": "code",
   "execution_count": null,
   "metadata": {},
   "outputs": [],
   "source": []
  }
 ],
 "metadata": {
  "kernelspec": {
   "display_name": "Python 3",
   "language": "python",
   "name": "python3"
  },
  "language_info": {
   "codemirror_mode": {
    "name": "ipython",
    "version": 3
   },
   "file_extension": ".py",
   "mimetype": "text/x-python",
   "name": "python",
   "nbconvert_exporter": "python",
   "pygments_lexer": "ipython3",
   "version": "3.7.4"
  }
 },
 "nbformat": 4,
 "nbformat_minor": 2
}
