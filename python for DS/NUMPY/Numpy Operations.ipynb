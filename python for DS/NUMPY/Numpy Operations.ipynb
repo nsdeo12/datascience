{
 "cells": [
  {
   "cell_type": "code",
   "execution_count": 3,
   "metadata": {},
   "outputs": [
    {
     "name": "stdout",
     "output_type": "stream",
     "text": [
      "arithmatic operation [ 2  4  6  8 10 12 14 16 18 20]\n",
      "recall [1. 1. 1. 1.]\n",
      "scalar operation>>>power [  1   4   9  16  25  36  49  64  81 100]\n",
      "scalar operation>>>power [ 100  200  300  400  500  600  700  800  900 1000]\n",
      "exponential>>\n",
      " [2.71828183e+00 7.38905610e+00 2.00855369e+01 5.45981500e+01\n",
      " 1.48413159e+02 4.03428793e+02 1.09663316e+03 2.98095799e+03\n",
      " 8.10308393e+03 2.20264658e+04]\n",
      "SINE>>\n",
      " [ 0.84147098  0.90929743  0.14112001 -0.7568025  -0.95892427 -0.2794155\n",
      "  0.6569866   0.98935825  0.41211849 -0.54402111]\n",
      "Log>>\n",
      " [0.         0.69314718 1.09861229 1.38629436 1.60943791 1.79175947\n",
      " 1.94591015 2.07944154 2.19722458 2.30258509]\n"
     ]
    }
   ],
   "source": [
    "import numpy as np\n",
    "arr=np.arange(1,11)\n",
    "print(\"arithmatic operation\",arr+arr)\n",
    "print(\"recall\",np.ones(4))\n",
    "print(\"scalar operation>>>power\",arr**2)\n",
    "print(\"scalar operation>>>power\",arr*100)\n",
    "print(\"exponential>>\\n\",np.exp(arr))\n",
    "print(\"SINE>>\\n\",np.sin(arr))\n",
    "print(\"Log>>\\n\",np.log(arr))\n"
   ]
  }
 ],
 "metadata": {
  "kernelspec": {
   "display_name": "Python 3",
   "language": "python",
   "name": "python3"
  },
  "language_info": {
   "codemirror_mode": {
    "name": "ipython",
    "version": 3
   },
   "file_extension": ".py",
   "mimetype": "text/x-python",
   "name": "python",
   "nbconvert_exporter": "python",
   "pygments_lexer": "ipython3",
   "version": "3.7.4"
  }
 },
 "nbformat": 4,
 "nbformat_minor": 2
}
