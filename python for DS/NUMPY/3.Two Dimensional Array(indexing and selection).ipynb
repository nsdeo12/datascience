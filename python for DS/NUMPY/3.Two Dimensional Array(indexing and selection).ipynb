{
 "cells": [
  {
   "cell_type": "code",
   "execution_count": 52,
   "metadata": {},
   "outputs": [
    {
     "name": "stdout",
     "output_type": "stream",
     "text": [
      "-------the Original array\n",
      " [[ 1  2  3]\n",
      " [ 4  5  3]\n",
      " [23 23  2]]\n",
      "-------slice the first row\n",
      " [1 2 3]\n",
      "-------different ways to grab element in 2d arr\n",
      " [0],[2]=> 3 \n",
      "[0,2]=> 3\n",
      "-------slice of 2d array\n",
      " [[2 3]\n",
      " [5 3]]\n",
      "-------Larger subsection\n",
      " [[1 2 3]\n",
      " [4 5 3]]\n",
      "-------array\n",
      " [ 1  2  3  4  5  6  7  8  9 10] \n",
      "get all greater than 5 returns a boolean array\n",
      " [False False False False False  True  True  True  True  True] \n",
      "-------see down\n",
      "[False False False False False  True  True  True  True  True]\n",
      "-------to get values we have to pass them\n",
      "\n",
      "[ 6  7  8  9 10]\n"
     ]
    }
   ],
   "source": [
    "import numpy as np\n",
    "new2dArray=np.array([[1,2,3],[4,5,3],[23,23,2]])\n",
    "print(\"-------the Original array\\n\",new2dArray)\n",
    "print(\"-------slice the first row\\n\",new2dArray[0])\n",
    "print(\"-------different ways to grab element in 2d arr\\n [0],[2]=>\",new2dArray[0][2],\"\\n[0,2]=>\",new2dArray[0,2])\n",
    "\n",
    "print(\"-------slice of 2d array\\n\", new2dArray[:2,1:])\n",
    "print(\"-------Larger subsection\\n\", new2dArray[:2])\n"
   ]
  },
  {
   "cell_type": "code",
   "execution_count": null,
   "metadata": {},
   "outputs": [],
   "source": [
    "\n",
    "#conditional selection\n",
    "arr=np.arange(1,11)\n",
    "print(\"-------array\\n\",arr,\"\\nget all greater than 5 returns a boolean array\\n\",arr>5,\"\\n-------see down\")\n",
    "boolArr=arr>5\n",
    "print(boolArr)\n",
    "\n",
    "print(\"-------to get values we have to pass them\\n\")\n",
    "print(arr[boolArr])\n",
    "\n"
   ]
  },
  {
   "cell_type": "code",
   "execution_count": 64,
   "metadata": {},
   "outputs": [
    {
     "name": "stdout",
     "output_type": "stream",
     "text": [
      "[[ 1  2  3  4  5  6  7  8  9 10]\n",
      " [11 12 13 14 15 16 17 18 19 20]\n",
      " [21 22 23 24 25 26 27 28 29 30]\n",
      " [31 32 33 34 35 36 37 38 39 40]\n",
      " [41 42 43 44 45 46 47 48 49 50]]\n",
      "rows with 13,14 and 23,24\n",
      " [[11 12 13 14 15 16 17 18 19 20]\n",
      " [21 22 23 24 25 26 27 28 29 30]]\n",
      "target the columns now,2nd to 4th column\n",
      "\n",
      "Select a portion\n",
      " [[13 14]\n",
      " [23 24]]\n"
     ]
    }
   ],
   "source": [
    "\n",
    "#exercise to get a section of array \n",
    "#method > first get the rows then aim for column\n",
    "arr=np.arange(1,51).reshape(5,10)\n",
    "print(arr)\n",
    "#get the rows which has 13,14 and 23,24>\n",
    "print(\"rows with 13,14 and 23,24\\n\",arr[1:3])\n",
    "\n",
    "print(\"target the columns now,2nd to 4th column\\n\")\n",
    "print(\"Select a portion\\n\",arr[1:3,2:4])"
   ]
  },
  {
   "cell_type": "markdown",
   "metadata": {},
   "source": [
    "Numpy Operations"
   ]
  },
  {
   "cell_type": "code",
   "execution_count": null,
   "metadata": {},
   "outputs": [],
   "source": [
    "\n",
    "import numpy as np\n",
    "arr=np.arange(1,11)\n",
    "print(\"arithmatic operation\",arr+arr)\n",
    "print(\"recall\",np.ones(4))\n",
    "print(\"scalar operation>>>power\",arr**2)\n",
    "print(\"scalar operation>>>power\",arr*100)\n",
    "print(\"exponential>>\\n\",np.exp(arr))\n",
    "print(\"SINE>>\\n\",np.sin(arr))\n",
    "print(\"Log>>\\n\",np.log(arr))\n"
   ]
  }
 ],
 "metadata": {
  "kernelspec": {
   "display_name": "Python 3",
   "language": "python",
   "name": "python3"
  },
  "language_info": {
   "codemirror_mode": {
    "name": "ipython",
    "version": 3
   },
   "file_extension": ".py",
   "mimetype": "text/x-python",
   "name": "python",
   "nbconvert_exporter": "python",
   "pygments_lexer": "ipython3",
   "version": "3.7.4"
  }
 },
 "nbformat": 4,
 "nbformat_minor": 2
}
