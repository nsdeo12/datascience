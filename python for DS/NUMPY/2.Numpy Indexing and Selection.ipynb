{
 "cells": [
  {
   "cell_type": "markdown",
   "metadata": {},
   "source": [
    "<a href='https://i.ibb.co/TPq9FfH/Nilakantha-Singh-Deo.jpg'> <img src='https://i.ibb.co/TPq9FfH/Nilakantha-Singh-Deo.jpg' /></a>\n"
   ]
  },
  {
   "cell_type": "markdown",
   "metadata": {},
   "source": [
    "Slicing"
   ]
  },
  {
   "cell_type": "code",
   "execution_count": 4,
   "metadata": {},
   "outputs": [
    {
     "name": "stdout",
     "output_type": "stream",
     "text": [
      "arr\n",
      " [ 0  1  2  3  4  5  6  7  8  9 10]\n",
      "slice_of_array\n",
      " [0 1 2 3 4 5]\n",
      "all with :\n",
      " [ 0  1  2  3  4  5  6  7  8  9 10] \n",
      "from 5\n",
      " [ 5  6  7  8  9 10]\n",
      "set to 100\n",
      " [100 100 100 100 100   5   6   7   8   9  10]\n",
      "copy of sliced array: [200 200 200 200 200   5   6   7   8   9  10]  Original array: [100 100 100 100 100   5   6   7   8   9  10]\n"
     ]
    }
   ],
   "source": [
    "import numpy as np\n",
    "\n",
    "arr=np.arange(0,11)\n",
    "\n",
    "print(\"arr\\n\",arr)\n",
    "\n",
    "slice_of_array=arr[0:6]\n",
    "\n",
    "print(\"slice_of_array\\n\",slice_of_array)\n",
    "\n",
    "print(\"all with :\\n\",arr[:],\"\\nfrom 5\\n\",arr[5:])\n",
    "\n",
    "#Setting values\n",
    "\n",
    "arr[0:5]=100\n",
    "\n",
    "print(\"set to 100\\n\",arr[:])\n",
    "\n",
    "#make a copy and do changes in that only\n",
    "arr_copy=arr.copy()\n",
    "arr_copy[0:5]=200\n",
    "print(\"copy of sliced array:\",arr_copy,\" Original array:\",arr)"
   ]
  },
  {
   "cell_type": "code",
   "execution_count": null,
   "metadata": {},
   "outputs": [],
   "source": []
  }
 ],
 "metadata": {
  "kernelspec": {
   "display_name": "Python 3",
   "language": "python",
   "name": "python3"
  },
  "language_info": {
   "codemirror_mode": {
    "name": "ipython",
    "version": 3
   },
   "file_extension": ".py",
   "mimetype": "text/x-python",
   "name": "python",
   "nbconvert_exporter": "python",
   "pygments_lexer": "ipython3",
   "version": "3.7.4"
  }
 },
 "nbformat": 4,
 "nbformat_minor": 2
}
